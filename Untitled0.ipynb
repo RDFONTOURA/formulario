{
  "nbformat": 4,
  "nbformat_minor": 0,
  "metadata": {
    "colab": {
      "name": "Untitled0.ipynb",
      "provenance": [],
      "collapsed_sections": [],
      "toc_visible": true,
      "authorship_tag": "ABX9TyM1TH+taO5E7mppefwPDa2O",
      "include_colab_link": true
    },
    "kernelspec": {
      "name": "python3",
      "display_name": "Python 3"
    },
    "language_info": {
      "name": "python"
    }
  },
  "cells": [
    {
      "cell_type": "markdown",
      "metadata": {
        "id": "view-in-github",
        "colab_type": "text"
      },
      "source": [
        "<a href=\"https://colab.research.google.com/github/RDFONTOURA/formulario/blob/master/Untitled0.ipynb\" target=\"_parent\"><img src=\"https://colab.research.google.com/assets/colab-badge.svg\" alt=\"Open In Colab\"/></a>"
      ]
    },
    {
      "cell_type": "code",
      "execution_count": 20,
      "metadata": {
        "colab": {
          "base_uri": "https://localhost:8080/"
        },
        "id": "5g5vDs45ulXg",
        "outputId": "3ce6799e-71a4-4d04-ce39-c9659392b6c1"
      },
      "outputs": [
        {
          "output_type": "stream",
          "name": "stdout",
          "text": [
            "<class 'int'>\n",
            "<class 'str'>\n",
            "<class 'float'>\n",
            "<class 'str'>\n"
          ]
        }
      ],
      "source": [
        "x =10 \n",
        "nome = \"aluno\"\n",
        "nota = 8.75\n",
        "fez_inscricao = \"true\"\n",
        "\n",
        "\n",
        "print(type(x))\n",
        "print(type(nome))\n",
        "print(type(nota))\n",
        "print(type(fez_inscricao))\n",
        "\n"
      ]
    },
    {
      "cell_type": "code",
      "source": [
        "nome = input(\"digite um nome\")\n",
        "\n",
        "\n",
        "print(f\"ola {nome}, bem vindo a disciplina de programaçaõ. Parabéns pelo seu primeiro hello word\".format (nome))"
      ],
      "metadata": {
        "colab": {
          "base_uri": "https://localhost:8080/"
        },
        "id": "iuRosgqUx7eN",
        "outputId": "c9763afc-427c-41f4-b02a-a873a4490537"
      },
      "execution_count": null,
      "outputs": [
        {
          "output_type": "stream",
          "name": "stdout",
          "text": [
            "digite um nomeRICARDO\n",
            "ola RICARDO, bem vindo a disciplina de programaçaõ. Parabéns pelo seu primeiro hello word\n"
          ]
        }
      ]
    },
    {
      "cell_type": "code",
      "source": [
        "a = 5 #estrutura simples \n",
        "b = 10\n",
        "\n",
        "if a < b:\n",
        "     print(\"a e menor do que b\")\n",
        "     r = a + b\n",
        "     print(r)\n",
        "\n"
      ],
      "metadata": {
        "colab": {
          "base_uri": "https://localhost:8080/"
        },
        "id": "evL5j1ns5VYb",
        "outputId": "526fe35b-71e4-40e9-e60a-ea1e69408590"
      },
      "execution_count": 19,
      "outputs": [
        {
          "output_type": "stream",
          "name": "stdout",
          "text": [
            "a e menor do que b\n",
            "15\n"
          ]
        }
      ]
    },
    {
      "cell_type": "code",
      "source": [
        ""
      ],
      "metadata": {
        "id": "TGDTKqSP9WQG"
      },
      "execution_count": null,
      "outputs": []
    },
    {
      "cell_type": "code",
      "source": [
        "#estrutura composta \n",
        "a = 10\n",
        "b = 5\n",
        "\n",
        "if a < b:\n",
        "  print(\"a e menor do que b\")\n",
        "  r = a + b \n",
        "  print(r)\n",
        "else:\n",
        "    print(\"a e maior do que b\")\n",
        "    r = a - b\n",
        "    print(r)"
      ],
      "metadata": {
        "colab": {
          "base_uri": "https://localhost:8080/"
        },
        "id": "vVYo1UiF8ZwW",
        "outputId": "897d663f-f5d5-495a-9bb0-cd83465d3e88"
      },
      "execution_count": 17,
      "outputs": [
        {
          "output_type": "stream",
          "name": "stdout",
          "text": [
            "a e maior do que b\n",
            "5\n"
          ]
        }
      ]
    },
    {
      "cell_type": "code",
      "source": [
        "codigo_compra = 5222 #estrutura encadeada\n",
        "\n",
        "if codigo_compra == 5222:\n",
        "   print(\"compra a vista.\")\n",
        "elif codigo_compra == 5333:\n",
        "   print(\"compra a prazo no boleto.\")\n",
        "elif codigo_compra == 5444:\n",
        "   print(\"compra a prazo no cartao.\")\n",
        "else:\n",
        "   print(\"codigo nao cadastrado\")         "
      ],
      "metadata": {
        "colab": {
          "base_uri": "https://localhost:8080/"
        },
        "id": "EYo4xTfl9bQC",
        "outputId": "974d1e60-96d3-42f0-b0df-d989a834ffdd"
      },
      "execution_count": 18,
      "outputs": [
        {
          "output_type": "stream",
          "name": "stdout",
          "text": [
            "compra a vista.\n"
          ]
        }
      ]
    },
    {
      "cell_type": "code",
      "source": [
        "qtde_faltas = int(input(\"Digite a quantidade de faltas: \"))\n",
        "media_final = float(input(\"digite a media final: \"))\n",
        "\n",
        "if qtde_faltas <= 5 and media_final >= 7:\n",
        "   print(\"aluno aprovado!\")\n",
        "else:\n",
        "  print(\"aluno reprovado!\")   "
      ],
      "metadata": {
        "colab": {
          "base_uri": "https://localhost:8080/"
        },
        "id": "sCLuFtt7AOdZ",
        "outputId": "229ee206-a8eb-4b0e-c476-4ff995a99a1a"
      },
      "execution_count": 27,
      "outputs": [
        {
          "output_type": "stream",
          "name": "stdout",
          "text": [
            "Digite a quantidade de faltas: 5\n",
            "digite a media final: 7\n",
            "aluno aprovado!\n"
          ]
        }
      ]
    },
    {
      "cell_type": "code",
      "source": [
        "A = 15\n",
        "B = 9\n",
        "C = 9\n",
        "\n",
        "print(B == C or A < B and A < C)\n",
        "print((B == C or A < B) and A < C )"
      ],
      "metadata": {
        "colab": {
          "base_uri": "https://localhost:8080/"
        },
        "id": "qAA2oPVKDpPh",
        "outputId": "3126bfaa-5857-4af2-ad42-d2859ba86b77"
      },
      "execution_count": 28,
      "outputs": [
        {
          "output_type": "stream",
          "name": "stdout",
          "text": [
            "True\n",
            "False\n"
          ]
        }
      ]
    },
    {
      "cell_type": "code",
      "source": [
        "# ESTRUTURA DE REPETICAO\n",
        "numero = 1\n",
        "while numero != 0:\n",
        "  numero = int(input(\"Digite um numero: \"))\n",
        "  if numero % 2 == 0:\n",
        "    print(\"Numero par!\")\n",
        "  else:\n",
        "    print(\"Numero impar!\")  \n"
      ],
      "metadata": {
        "colab": {
          "base_uri": "https://localhost:8080/"
        },
        "id": "0hQYxhiOEkRe",
        "outputId": "0195fc47-d463-40a7-85d2-e20d1e66a332"
      },
      "execution_count": 30,
      "outputs": [
        {
          "output_type": "stream",
          "name": "stdout",
          "text": [
            "Digite um numero: 6\n",
            "Numero par!\n",
            "Digite um numero: 5\n",
            "Numero impar!\n",
            "Digite um numero: 2\n",
            "Numero par!\n",
            "Digite um numero: 3\n",
            "Numero impar!\n",
            "Digite um numero: -10\n",
            "Numero par!\n",
            "Digite um numero: 0\n",
            "Numero par!\n"
          ]
        }
      ]
    },
    {
      "cell_type": "code",
      "source": [
        "# estruturas logicas, condicionais \n",
        "nome = \"Guido\"\n",
        "for c in nome:\n",
        "  print(c)"
      ],
      "metadata": {
        "colab": {
          "base_uri": "https://localhost:8080/"
        },
        "id": "237muZm8If6e",
        "outputId": "16dd795a-1be2-453b-b925-0f995be5dca3"
      },
      "execution_count": 31,
      "outputs": [
        {
          "output_type": "stream",
          "name": "stdout",
          "text": [
            "G\n",
            "u\n",
            "i\n",
            "d\n",
            "o\n"
          ]
        }
      ]
    },
    {
      "cell_type": "code",
      "source": [
        "nome = \"Guido\"\n",
        "for i, c in enumerate(nome):\n",
        "    print(f\"Posição = {i}, valor = {c}\")"
      ],
      "metadata": {
        "colab": {
          "base_uri": "https://localhost:8080/"
        },
        "id": "yduyfYxGJTXB",
        "outputId": "7e70200d-433f-491b-f3b2-62c3b30e6da5"
      },
      "execution_count": 33,
      "outputs": [
        {
          "output_type": "stream",
          "name": "stdout",
          "text": [
            "Posição = 0, valor = G\n",
            "Posição = 1, valor = u\n",
            "Posição = 2, valor = i\n",
            "Posição = 3, valor = d\n",
            "Posição = 4, valor = o\n"
          ]
        }
      ]
    },
    {
      "cell_type": "code",
      "source": [
        "# Exemplo de uso do break\n",
        "disciplina = \"linguagem de programação\"\n",
        "for c in disciplina:\n",
        "    if c =='a':\n",
        "         break\n",
        "    else:\n",
        "         print(c)  "
      ],
      "metadata": {
        "colab": {
          "base_uri": "https://localhost:8080/"
        },
        "id": "0MBRRpFQK3xU",
        "outputId": "bd2cf949-2795-4d1c-8222-a6ef5de45aed"
      },
      "execution_count": 38,
      "outputs": [
        {
          "output_type": "stream",
          "name": "stdout",
          "text": [
            "l\n",
            "i\n",
            "n\n",
            "g\n",
            "u\n"
          ]
        }
      ]
    },
    {
      "cell_type": "code",
      "source": [
        "#exemplo de continue \n",
        "disciplina = \"linguagem de programação\"\n",
        "for c in disciplina:\n",
        "    if c =='a':\n",
        "         continue \n",
        "    else:\n",
        "         print(c)     "
      ],
      "metadata": {
        "colab": {
          "base_uri": "https://localhost:8080/"
        },
        "id": "hgLx_APoMQhI",
        "outputId": "42407e35-6b33-4163-bb65-54c21b6c621d"
      },
      "execution_count": 41,
      "outputs": [
        {
          "output_type": "stream",
          "name": "stdout",
          "text": [
            "l\n",
            "i\n",
            "n\n",
            "g\n",
            "u\n",
            "g\n",
            "e\n",
            "m\n",
            " \n",
            "d\n",
            "e\n",
            " \n",
            "p\n",
            "r\n",
            "o\n",
            "g\n",
            "r\n",
            "m\n",
            "ç\n",
            "ã\n",
            "o\n"
          ]
        }
      ]
    },
    {
      "cell_type": "code",
      "source": [
        ""
      ],
      "metadata": {
        "id": "o1UjSiY2N4xF"
      },
      "execution_count": null,
      "outputs": []
    }
  ]
}